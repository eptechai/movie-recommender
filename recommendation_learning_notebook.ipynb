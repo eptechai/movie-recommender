{
 "cells": [
  {
   "cell_type": "markdown",
   "id": "e0fd79fe-1571-4685-9ce9-0a9d9d03392e",
   "metadata": {},
   "source": [
    "# AI Experience Based Learning"
   ]
  },
  {
   "cell_type": "code",
   "execution_count": null,
   "id": "0d8a6c58-2ad8-445f-bf20-25f51748de7f",
   "metadata": {},
   "outputs": [],
   "source": [
    "import pickle\n",
    "import random\n",
    "from ast import literal_eval\n",
    "\n",
    "import numpy as np\n",
    "import pandas as pd\n",
    "import requests\n",
    "\n",
    "import umap\n",
    "from plotly import graph_objects as go\n",
    "from plotly.subplots import make_subplots\n",
    "from scipy.spatial.distance import cdist\n",
    "from sentence_transformers import SentenceTransformer\n",
    "from skimage import io"
   ]
  },
  {
   "cell_type": "markdown",
   "id": "a8b9df5a-990f-4a75-9fce-b6bac6779ea6",
   "metadata": {},
   "source": [
    "## Case Based Reasoning"
   ]
  },
  {
   "cell_type": "markdown",
   "id": "51117a06-5047-4bfb-8446-4b75449ef100",
   "metadata": {},
   "source": [
    "1. **Retrieve:** Given a target problem, retrieve from memory cases relevant to solving it. A case consists of a problem, its solution, and, typically, annotations about how the solution was derived.\n",
    "\n",
    "2. **Reuse:** Map the solution from the previous case to the target problem. This may involve adapting the solution as needed to fit the new situation.\n",
    "\n",
    "3. **Revise:** Having mapped the previous solution to the target situation, test the new solution in the real world (or a simulation) and, if necessary, revise.\n",
    "\n",
    "4. **Retain:** After the solution has been successfully adapted to the target problem, store the resulting experience as a new case in memory.\n"
   ]
  },
  {
   "cell_type": "markdown",
   "id": "bc297122-edbc-4920-a96d-269c2323df6e",
   "metadata": {
    "tags": []
   },
   "source": [
    "# Data Processing: Movies Data Base"
   ]
  },
  {
   "cell_type": "markdown",
   "id": "30892327-40c9-48cd-b69a-6c04db076ca6",
   "metadata": {},
   "source": [
    "https://www.kaggle.com/datasets/rounakbanik/the-movies-dataset/download?datasetVersionNumber=7"
   ]
  },
  {
   "cell_type": "code",
   "execution_count": null,
   "id": "68445270-53a0-40b4-b90d-86dbf2c68bbf",
   "metadata": {
    "tags": []
   },
   "outputs": [],
   "source": [
    "movies_data = pd.read_csv(\"movies/files/movies_metadata.csv\", low_memory=False)\n",
    "movies_data = movies_data.loc[movies_data.release_date >= \"1990\"]\n",
    "movies_data = movies_data.loc[np.array([x.isnumeric() for x in movies_data.id])]\n",
    "movies_data.id = movies_data.id.astype(int)\n",
    "movies_data.popularity = movies_data.popularity.astype(float)\n",
    "movies_data.fillna({\"poster_path\": \"\", \"runtime\": 0, \"original_language\": \"\"}, inplace=True)\n",
    "movies_data = movies_data.loc[:, [\n",
    "    \"id\", \"original_title\", \"release_date\", \"original_language\",\n",
    "    \"runtime\", \"vote_average\", \"vote_count\",\n",
    "    \"popularity\", \"poster_path\", \"production_companies\", \"genres\",\n",
    "    \"overview\",\n",
    "]]\n",
    "movies_data = movies_data.loc[\n",
    "    (movies_data.genres != \"[]\") & \\\n",
    "    (movies_data.original_language != \"\") & \\\n",
    "    (movies_data.poster_path != \"\") & \\\n",
    "    (movies_data.runtime > 0) & \\\n",
    "    (movies_data.original_language == \"en\") & \\\n",
    "    (movies_data.production_companies != \"[]\")\n",
    "]\n",
    "movies_data.shape"
   ]
  },
  {
   "cell_type": "code",
   "execution_count": null,
   "id": "a26af844-25da-4fba-9f05-15346f94f215",
   "metadata": {
    "tags": []
   },
   "outputs": [],
   "source": [
    "# add keywords\n",
    "keywords = pd.read_csv(\"movies/files/keywords.csv\")\n",
    "keywords = keywords.loc[keywords.keywords != \"[]\"]\n",
    "movies_data = pd.merge(movies_data, keywords, on=\"id\", how='inner')\n",
    "movies_data.drop_duplicates(\"id\", inplace=True, ignore_index=True)\n",
    "print(movies_data.shape)\n",
    "movies_data.iloc[0].to_dict()"
   ]
  },
  {
   "cell_type": "code",
   "execution_count": null,
   "id": "52f3c92f-7f6a-484c-8913-5eaaf138a3ec",
   "metadata": {
    "tags": []
   },
   "outputs": [],
   "source": [
    "# add credits\n",
    "credits = pd.read_csv(\"movies/files/credits.csv\")\n",
    "credits = credits.loc[(credits.crew != \"[]\") & (credits.cast != \"[]\")]\n",
    "movies_data = pd.merge(movies_data, credits, on=\"id\", how='inner')\n",
    "movies_data.drop_duplicates(\"id\", inplace=True, ignore_index=True)\n",
    "movies_data.shape"
   ]
  },
  {
   "cell_type": "code",
   "execution_count": null,
   "id": "3aaef28c-41df-4244-84fc-ce20938fac26",
   "metadata": {
    "tags": []
   },
   "outputs": [],
   "source": [
    "# dict fields\n",
    "features = [\"cast\", \"crew\", \"keywords\", \"genres\", \"production_companies\"]\n",
    "for feature in features:\n",
    "    movies_data[feature] = movies_data[feature].apply(literal_eval)"
   ]
  },
  {
   "cell_type": "code",
   "execution_count": null,
   "id": "a7b651e6-c8b8-4083-917c-d02b89cea775",
   "metadata": {
    "tags": []
   },
   "outputs": [],
   "source": [
    "# Director\n",
    "def get_director(x):\n",
    "    for i in x:\n",
    "        if i['job'] == 'Director':\n",
    "            return i['name']\n",
    "    return \"\"\n",
    "\n",
    "movies_data['director'] = movies_data['crew'].apply(get_director)"
   ]
  },
  {
   "cell_type": "code",
   "execution_count": null,
   "id": "dc8b8d57-ee3d-4d73-b98d-8dd259cfac99",
   "metadata": {
    "tags": []
   },
   "outputs": [],
   "source": [
    "# Year\n",
    "def get_year(x):\n",
    "    return int(x.split(\"-\")[0])\n",
    "\n",
    "movies_data['year'] = movies_data['release_date'].apply(get_year)"
   ]
  },
  {
   "cell_type": "code",
   "execution_count": null,
   "id": "bc253fdc-c9b9-43ab-9b48-7695d2ab7a63",
   "metadata": {
    "tags": []
   },
   "outputs": [],
   "source": [
    "# list fields\n",
    "def get_list(x):\n",
    "    if isinstance(x, list):\n",
    "        names = [i[\"name\"] for i in x]\n",
    "        return names\n",
    "\n",
    "    # Return empty list in case of missing/malformed data\n",
    "    return []\n",
    "\n",
    "features = [\"cast\", \"keywords\", \"genres\", \"production_companies\"]\n",
    "for feature in features:\n",
    "    movies_data[feature] = movies_data[feature].apply(get_list)"
   ]
  },
  {
   "cell_type": "code",
   "execution_count": null,
   "id": "5a2348a9-81e2-40de-afe8-b0b8eb4fd033",
   "metadata": {
    "tags": []
   },
   "outputs": [],
   "source": [
    "movies_data.drop(columns=\"crew\", inplace=True)"
   ]
  },
  {
   "cell_type": "code",
   "execution_count": null,
   "id": "5169ce67-1808-4e29-9253-b100f77a2898",
   "metadata": {
    "tags": []
   },
   "outputs": [],
   "source": [
    "movies_data.to_parquet(\"movies/movies_data.parquet\")"
   ]
  },
  {
   "cell_type": "code",
   "execution_count": null,
   "id": "7c0d04bd-1176-4c26-9c2a-6976a5cb39fe",
   "metadata": {
    "tags": []
   },
   "outputs": [],
   "source": [
    "# load movies data\n",
    "movies_data = pd.read_parquet(\"movies/movies_data.parquet\")\n",
    "movies_data.shape"
   ]
  },
  {
   "cell_type": "code",
   "execution_count": null,
   "id": "a2ab8878-43ed-4c8c-a5d3-20b5da08c80d",
   "metadata": {
    "tags": []
   },
   "outputs": [],
   "source": [
    "for key, value in movies_data.iloc[0].to_dict().items():\n",
    "    print(f\"{key}: {value}\")"
   ]
  },
  {
   "cell_type": "markdown",
   "id": "65bc5a8a-7f73-4f7e-8eac-fd2be2af777a",
   "metadata": {
    "jp-MarkdownHeadingCollapsed": true,
    "tags": []
   },
   "source": [
    "#### Web Scraping from TMDb "
   ]
  },
  {
   "cell_type": "code",
   "execution_count": null,
   "id": "e9e9facd-e049-41ec-ba4f-073293f011aa",
   "metadata": {
    "tags": []
   },
   "outputs": [],
   "source": [
    "poster_path = \"/vzmL6fP7aPKNKPRTFnZmiUfciyV.jpg\"\n",
    "url = f\"https://image.tmdb.org/t/p/w185{poster_path}\"\n",
    "headers = {'User-Agent': 'Mozilla/5.0 (Windows NT 6.1; WOW64; rv:50.0) Gecko/20100101 Firefox/50.0'}"
   ]
  },
  {
   "cell_type": "code",
   "execution_count": null,
   "id": "5d8a16e8-ba09-47cb-a24c-307bf201f943",
   "metadata": {
    "tags": []
   },
   "outputs": [],
   "source": [
    "response = requests.get(url, headers=headers)\n",
    "response.status_code"
   ]
  },
  {
   "cell_type": "markdown",
   "id": "9255d1fd-84c3-4c05-8999-8cc9110e783e",
   "metadata": {},
   "source": [
    "## Movies Characterization"
   ]
  },
  {
   "cell_type": "code",
   "execution_count": null,
   "id": "793ff03b-7422-43aa-a9cb-8c9e767a659e",
   "metadata": {
    "tags": []
   },
   "outputs": [],
   "source": [
    "movies_data.columns"
   ]
  },
  {
   "cell_type": "code",
   "execution_count": null,
   "id": "5f5f1cc8-6ab4-4b19-b57b-5b91da3eb997",
   "metadata": {
    "tags": []
   },
   "outputs": [],
   "source": [
    "content_base = []\n",
    "for row in movies_data.to_dict(\"records\"):\n",
    "    genres = \", \".join(row[\"genres\"])\n",
    "    keys = \", \".join(row[\"keywords\"])\n",
    "    actors = \", \".join(row[\"cast\"][:3])\n",
    "    content_base.append((\n",
    "        f\"\"\"{row[\"original_title\"]} ({row[\"year\"]}): {genres}. {row[\"overview\"]} \"\"\"\n",
    "        f\"\"\"Produced by {\"\".join(row[\"production_companies\"][:1])}. \"\"\"\n",
    "        f\"\"\"Directed by {row[\"director\"]}. Main actors: {actors}.\"\"\"\n",
    "    ))"
   ]
  },
  {
   "cell_type": "code",
   "execution_count": null,
   "id": "890e84fd-99c6-4256-a1b6-0ec83446a690",
   "metadata": {
    "tags": []
   },
   "outputs": [],
   "source": [
    "content_base[0]"
   ]
  },
  {
   "cell_type": "code",
   "execution_count": null,
   "id": "0405410f-14c8-4d54-b273-b1ff232db139",
   "metadata": {
    "tags": []
   },
   "outputs": [],
   "source": [
    "# Semantic Embedding\n",
    "embedding_model = SentenceTransformer(\"all-mpnet-base-v2\")  # all-MiniLM-L6-v2 all-mpnet-base-v2"
   ]
  },
  {
   "cell_type": "code",
   "execution_count": null,
   "id": "8109dd50-c06c-4f3d-9178-e567e96e3719",
   "metadata": {
    "tags": []
   },
   "outputs": [],
   "source": [
    "# Be carefull: long running cell\n",
    "embeddings = embedding_model.encode(content_base)\n",
    "embeddings.shape"
   ]
  },
  {
   "cell_type": "code",
   "execution_count": null,
   "id": "2ce3949c-4bf0-40eb-aeca-acab8394db26",
   "metadata": {
    "tags": []
   },
   "outputs": [],
   "source": [
    "# save embeddings\n",
    "with open(\"movies/movies_embeddings.pickle\", \"wb\") as file:\n",
    "    pickle.dump(embeddings, file)"
   ]
  },
  {
   "cell_type": "code",
   "execution_count": null,
   "id": "b7bcb517-0668-45b3-b0a7-e42d305f88e4",
   "metadata": {
    "tags": []
   },
   "outputs": [],
   "source": [
    "# load embeddings\n",
    "with open(\"movies/movies_embeddings.pickle\", \"rb\") as file:\n",
    "    embeddings = pickle.load(file)\n",
    "embeddings.shape"
   ]
  },
  {
   "cell_type": "code",
   "execution_count": null,
   "metadata": {},
   "outputs": [],
   "source": [
    "embeddings.shape"
   ]
  },
  {
   "cell_type": "markdown",
   "id": "365ea5c7-8dd4-4f66-b722-a01880ef0f55",
   "metadata": {},
   "source": [
    "### Visualization"
   ]
  },
  {
   "cell_type": "code",
   "execution_count": null,
   "id": "7d311bd5-abd4-46ec-b0d0-0dfad67b2b0a",
   "metadata": {
    "tags": []
   },
   "outputs": [],
   "source": [
    "reducer = umap.UMAP(\n",
    "    random_state=42,\n",
    "    n_components=2,\n",
    "    n_neighbors=20,\n",
    "    min_dist=0.1,\n",
    "    metric=\"euclidean\",\n",
    ")\n",
    "embeddings2d = reducer.fit_transform(embeddings)\n",
    "embeddings2d.shape"
   ]
  },
  {
   "cell_type": "code",
   "execution_count": null,
   "id": "70d83012-274b-4ef6-8214-751699643da9",
   "metadata": {
    "tags": []
   },
   "outputs": [],
   "source": [
    "def reduce_list(x):\n",
    "    if isinstance(x, list):\n",
    "        return x[:3]\n",
    "\n",
    "    # Return empty list in case of missing/malformed data\n",
    "    return []\n",
    "\n",
    "features = [\"keywords\", \"genres\"]\n",
    "for feature in features:\n",
    "    movies_data[feature] = movies_data[feature].apply(reduce_list)"
   ]
  },
  {
   "cell_type": "code",
   "execution_count": null,
   "id": "405db091-aeaf-499e-aeeb-ceabfaeca9e0",
   "metadata": {
    "tags": []
   },
   "outputs": [],
   "source": [
    "ugenres = sorted(np.unique([x[0] for x in movies_data.genres.values]))\n",
    "figure = go.Figure()\n",
    "figure.add_trace(go.Scattergl(\n",
    "    x=embeddings2d[:, 0],\n",
    "    y=embeddings2d[:, 1],\n",
    "    mode=\"markers\",\n",
    "    # marker_color=[ugenres.index(x[0]) for x in movies_data.genres.values],\n",
    "    marker_line_width=1,\n",
    "    opacity=0.5,\n",
    "    customdata=movies_data.loc[:, [\"original_title\", \"genres\", \"keywords\", \"year\"]].values,\n",
    "    hovertemplate=\"<br>\".join([\n",
    "        \"title: %{customdata[0]}\",\n",
    "        \"genres: %{customdata[1]}\", \n",
    "        \"keywords: %{customdata[2]}\",\n",
    "        \"year: %{customdata[3]}\",\n",
    "    ]),\n",
    "))\n",
    "figure.update_layout(\n",
    "    width=800,\n",
    "    height=700,\n",
    "    xaxis_visible=False,\n",
    "    yaxis_visible=False,\n",
    ")"
   ]
  },
  {
   "cell_type": "markdown",
   "id": "beb9dd48-d049-4862-9fcc-19b8fe4a88f9",
   "metadata": {},
   "source": [
    "## User Preferences Modeling"
   ]
  },
  {
   "cell_type": "code",
   "execution_count": null,
   "id": "13094f4f-57dc-4b3d-8088-21cb35970559",
   "metadata": {
    "tags": []
   },
   "outputs": [],
   "source": [
    "movie_titles = movies_data.original_title.to_list()\n",
    "\n",
    "def get_user_model(user_titles):\n",
    "    user_model = {\"titles\": user_titles, \"nodes\": [], \"radio\": 0}\n",
    "    for title in user_titles:\n",
    "        idx = movie_titles.index(title)\n",
    "        user_model[\"nodes\"].append(list(embeddings2d[idx]))\n",
    "    # Radio\n",
    "    user_nodes = np.array(user_model[\"nodes\"])\n",
    "    node_dist = cdist(user_nodes, user_nodes)\n",
    "    user_model[\"radio\"] = np.min(node_dist[node_dist > 0]) / 2\n",
    "    return user_model"
   ]
  },
  {
   "cell_type": "code",
   "execution_count": null,
   "id": "fdf7db97-0213-49fd-a50f-231fb2332f47",
   "metadata": {
    "tags": []
   },
   "outputs": [],
   "source": [
    "user_titles = [\n",
    "    \"The Shawshank Redemption\",\n",
    "    \"Forrest Gump\",\n",
    "    \"Fight Club\",\n",
    "    \"Inception\",\n",
    "    \"The Matrix\",\n",
    "    \"Se7en\",\n",
    "    \"Saving Private Ryan\",\n",
    "    \"WALL·E\",\n",
    "    \"Good Will Hunting\",\n",
    "    \"Heat\",\n",
    "]"
   ]
  },
  {
   "cell_type": "code",
   "execution_count": null,
   "id": "426930e6-c0cb-4bf0-8dc5-46a82d6b57ab",
   "metadata": {
    "tags": []
   },
   "outputs": [],
   "source": [
    "# User Profile\n",
    "user_model = get_user_model(user_titles)"
   ]
  },
  {
   "cell_type": "code",
   "execution_count": null,
   "id": "5ec5bddb-239a-4961-ba3e-c0876651d64d",
   "metadata": {
    "tags": []
   },
   "outputs": [],
   "source": [
    "user_model"
   ]
  },
  {
   "cell_type": "code",
   "execution_count": null,
   "id": "7ee2f058-2682-482a-8520-b290f3fe311c",
   "metadata": {},
   "outputs": [],
   "source": [
    "def visualize_user_model(model_a, model_b=None):\n",
    "    # visualization\n",
    "    figure = go.Figure()\n",
    "    # preferences spheres\n",
    "    for i, node in enumerate(model_a[\"nodes\"]):\n",
    "        x = node[0]\n",
    "        y = node[1]\n",
    "        r = model_a[\"radio\"]\n",
    "        figure.add_shape(\n",
    "            type=\"circle\",\n",
    "            fillcolor=\"yellow\",\n",
    "            opacity=0.5,\n",
    "            x0=x-r, y0=y-r, x1=x+r, y1=y+r,\n",
    "            line_color=\"black\",\n",
    "        )\n",
    "        print(f\"{i}. {model_a['titles'][i]}\")\n",
    "    figure.add_trace(go.Scattergl(\n",
    "        x=embeddings2d[:, 0],\n",
    "        y=embeddings2d[:, 1],\n",
    "        mode=\"markers\",\n",
    "        marker_line_width=0,\n",
    "        customdata=movies_data.loc[:, [\"original_title\", \"genres\", \"keywords\", \"year\"]].values,\n",
    "        hovertemplate=\"<br>\".join([\n",
    "            \"title: %{customdata[0]}\",\n",
    "            \"genres: %{customdata[1]}\", \n",
    "            \"keywords: %{customdata[2]}\",\n",
    "            \"year: %{customdata[3]}\",\n",
    "        ]),\n",
    "        fillcolor=\"blue\",\n",
    "        opacity=0.5,\n",
    "        name=\"movies-universe\",\n",
    "    ))\n",
    "    figure.add_trace(go.Scattergl(\n",
    "        x=np.array(model_a[\"nodes\"])[:, 0],\n",
    "        y=np.array(model_a[\"nodes\"])[:, 1],\n",
    "        mode=\"markers\",\n",
    "        fillcolor=\"red\",\n",
    "        opacity=1,\n",
    "        name=\"user-model\",\n",
    "        marker_line_width=1,\n",
    "    ))\n",
    "    if model_b:\n",
    "        figure.add_trace(go.Scattergl(\n",
    "            x=np.array(model_b[\"nodes\"])[:, 0],\n",
    "            y=np.array(model_b[\"nodes\"])[:, 1],\n",
    "            mode=\"markers\",\n",
    "            fillcolor=\"green\",\n",
    "            opacity=1,\n",
    "            name=\"case-base\",\n",
    "            marker_line_width=1,\n",
    "        ))\n",
    "    figure.update_layout(\n",
    "        width=800,\n",
    "        height=700,\n",
    "        xaxis_visible=False,\n",
    "        yaxis_visible=False,\n",
    "    )\n",
    "    figure.show()"
   ]
  },
  {
   "cell_type": "code",
   "execution_count": null,
   "id": "e2e470b8-a853-48c1-ba47-81b3d58f4c69",
   "metadata": {
    "tags": []
   },
   "outputs": [],
   "source": [
    "visualize_user_model(user_model)"
   ]
  },
  {
   "cell_type": "markdown",
   "id": "1262e9b0-ba2e-49bd-996d-6938e69dd315",
   "metadata": {},
   "source": [
    "# 0. Case Base:"
   ]
  },
  {
   "cell_type": "code",
   "execution_count": null,
   "id": "05773a55-d707-4ea9-9613-8ff13db088a8",
   "metadata": {
    "tags": []
   },
   "outputs": [],
   "source": [
    "n_cases = 1_000\n",
    "n_movies = movies_data.shape[0]\n",
    "movies_per_case = 10"
   ]
  },
  {
   "cell_type": "code",
   "execution_count": null,
   "id": "f8ce5a74-b00c-4aab-b79f-4d6cb53a14dc",
   "metadata": {
    "tags": []
   },
   "outputs": [],
   "source": [
    "case_base = []\n",
    "itc = list(np.arange(n_movies).astype(int))\n",
    "features = [\"vote_average\", \"vote_count\"]\n",
    "for i in range(n_cases):\n",
    "    ititles = []\n",
    "    idxs = np.array(random.sample(itc, movies_per_case))\n",
    "    iloc = embeddings2d[idxs]\n",
    "    node_dist = cdist(iloc, iloc)\n",
    "    rmin = np.min(node_dist[node_dist > 0]) / 2\n",
    "    ifeature = random.choice(features)\n",
    "    for ix in iloc:\n",
    "        mdist = cdist(embeddings2d, ix.reshape(1, -1))\n",
    "        imovies = movies_data.loc[mdist < rmin].sort_values(\n",
    "            by=ifeature, ascending=False, ignore_index=True\n",
    "        ).iloc[0].to_dict()\n",
    "        if imovies[\"original_title\"] in ititles:\n",
    "            print(\"duplicated titles\")\n",
    "            break\n",
    "        ititles.append(imovies[\"original_title\"])\n",
    "    if len(ititles) < movies_per_case:\n",
    "        break\n",
    "    icase = get_user_model(ititles)\n",
    "    case_base.append(icase)\n",
    "len(case_base)"
   ]
  },
  {
   "cell_type": "code",
   "execution_count": null,
   "id": "94f6a087-3205-4bf9-8d12-5f203019a125",
   "metadata": {
    "tags": []
   },
   "outputs": [],
   "source": [
    "visualize_user_model(random.choice(case_base))"
   ]
  },
  {
   "cell_type": "markdown",
   "id": "1753b08a-f89c-49fb-9d9e-52681546acce",
   "metadata": {},
   "source": [
    "# 1. Retrieve:"
   ]
  },
  {
   "cell_type": "code",
   "execution_count": null,
   "id": "e0116b40-c51b-43f0-9971-abfa8a3d7f33",
   "metadata": {
    "tags": []
   },
   "outputs": [],
   "source": [
    "def serch_by_content(key, k=10):\n",
    "    return [x for x in movie_titles if key.lower() in x.lower()][:k]"
   ]
  },
  {
   "cell_type": "code",
   "execution_count": null,
   "id": "d1675e4d-16b0-4c42-84a7-07f236352dec",
   "metadata": {
    "tags": []
   },
   "outputs": [],
   "source": [
    "serch_by_content(\"Conj\")"
   ]
  },
  {
   "cell_type": "code",
   "execution_count": null,
   "id": "8fd5246d-8d55-47af-9930-8fe5c1ff9fdc",
   "metadata": {
    "tags": []
   },
   "outputs": [],
   "source": [
    "# Mixer\n",
    "user_titles = [\n",
    "    \"The Silence of the Lambs\",\n",
    "    \"Pride & Prejudice\",\n",
    "    \"The Godfather: Part III\",\n",
    "    \"Little Women\",\n",
    "    \"The Sixth Sense\",\n",
    "    \"Iron Man\",\n",
    "    \"The Avengers\",\n",
    "    \"Shrek 2\",\n",
    "    \"Saving Private Ryan\",\n",
    "    \"The Conjuring\",\n",
    "]"
   ]
  },
  {
   "cell_type": "code",
   "execution_count": null,
   "id": "7a0f456e-c254-41e1-b10e-a6ca2e892589",
   "metadata": {
    "tags": []
   },
   "outputs": [],
   "source": [
    "user_model = get_user_model(user_titles)"
   ]
  },
  {
   "cell_type": "markdown",
   "id": "f60530ed-04b1-46b0-ac60-3f63a028d126",
   "metadata": {},
   "source": [
    "### Similarity Algorithm"
   ]
  },
  {
   "cell_type": "code",
   "execution_count": null,
   "id": "547656c8-25e2-4157-af1f-818f51f28d30",
   "metadata": {
    "tags": []
   },
   "outputs": [],
   "source": [
    "def nodes_distance(node_a, node_b):\n",
    "    n = len(node_a)\n",
    "    anode = np.array(node_a)\n",
    "    bnode = np.array(node_b)\n",
    "    min_dist = np.zeros(n)\n",
    "    for i in range(n):\n",
    "        idist = cdist(anode[i].reshape(1, -1), bnode)\n",
    "        min_dist[i] = idist.min()\n",
    "        bnode = bnode[bnode[:, 0] != bnode[idist.argmin(), 0]]\n",
    "    return min_dist.mean()"
   ]
  },
  {
   "cell_type": "code",
   "execution_count": null,
   "id": "2a84cde3-1451-4f3f-8fca-33b55641fb9c",
   "metadata": {
    "tags": []
   },
   "outputs": [],
   "source": [
    "case_similarity = np.zeros(len(case_base))\n",
    "for i in range(len(case_base)):\n",
    "    case_similarity[i] = nodes_distance(case_base[i][\"nodes\"], user_model[\"nodes\"])\n",
    "idx = case_similarity.argmin()\n",
    "print(f\"Best Case Index Similarity: {idx} - {round(case_similarity.min(), 4)}\")"
   ]
  },
  {
   "cell_type": "code",
   "execution_count": null,
   "id": "2eeeb1b0-bcde-49f4-917b-4dcc7b61e3d4",
   "metadata": {
    "tags": []
   },
   "outputs": [],
   "source": [
    "visualize_user_model(user_model, case_base[idx])"
   ]
  },
  {
   "cell_type": "markdown",
   "id": "7cca9a53-b447-45de-a556-877a73fcb08a",
   "metadata": {},
   "source": [
    "# 2. Reuse:"
   ]
  },
  {
   "cell_type": "markdown",
   "id": "460b19ee-2383-4d16-b8e6-e7c9f9e448cb",
   "metadata": {},
   "source": [
    "### Recomendation Algorithm"
   ]
  },
  {
   "cell_type": "code",
   "execution_count": null,
   "id": "519aa842-aa6b-43a7-8cb4-c822ce06d4a7",
   "metadata": {
    "tags": []
   },
   "outputs": [],
   "source": [
    "n2recomend = 5"
   ]
  },
  {
   "cell_type": "code",
   "execution_count": null,
   "id": "c30f6233-b0e2-4439-9cb5-b44105030fba",
   "metadata": {
    "tags": []
   },
   "outputs": [],
   "source": [
    "tmdb_api_key = \"5ab2383865ec68e340e05452655559e7\"\n",
    "\n",
    "def show_recomendations(recomendations):\n",
    "    fig = make_subplots(rows=1, cols=5)\n",
    "    for i, reco in enumerate(recomendations):\n",
    "        movie_id = movies_data.loc[movies_data.original_title == reco, \"id\"].values[0]\n",
    "        url = \"https://api.themoviedb.org/3/movie/{}?api_key=5ab2383865ec68e340e05452655559e7&language=en-US\".format(movie_id)\n",
    "        response = requests.get(url, headers={\"accept\": \"application/json\"})\n",
    "        data = response.json()\n",
    "        try:\n",
    "            img = io.imread(f\"https://image.tmdb.org/t/p/w500{data['poster_path']}\")\n",
    "        except Exception:\n",
    "            img = np.zeros((278, 185, 3))\n",
    "        fig.add_trace(\n",
    "            go.Image(z=img),\n",
    "            row=1,\n",
    "            col=i+1,\n",
    "        )\n",
    "    fig.update_xaxes(visible=False)\n",
    "    fig.update_yaxes(visible=False)\n",
    "    fig.show()"
   ]
  },
  {
   "cell_type": "code",
   "execution_count": null,
   "id": "73cdcfca-4d3c-4016-92b0-caae2c478c1d",
   "metadata": {
    "tags": []
   },
   "outputs": [],
   "source": [
    "recomended_titles = []\n",
    "for idx in case_similarity.argsort()[:100]:\n",
    "    icase = case_base[idx]\n",
    "    ititles = sorted(set(icase[\"titles\"]) - set(user_model[\"titles\"]).union(set(recomended_titles)))\n",
    "    if ititles:\n",
    "        imovies = movies_data.loc[movies_data.original_title.isin(ititles)].sort_values(\n",
    "            by=\"vote_average\", ascending=False, ignore_index=True\n",
    "        ).iloc[0].to_dict()\n",
    "        recomended_titles.append(imovies[\"original_title\"])\n",
    "        if len(recomended_titles) <= n2recomend:\n",
    "            print(f\"\"\"{len(recomended_titles)}. {imovies[\"original_title\"]}\"\"\")\n",
    "            irecomended = recomended_titles[:n2recomend]\n",
    "            idr = 5"
   ]
  },
  {
   "cell_type": "code",
   "execution_count": null,
   "id": "7012733e-d88c-461b-8968-8e171962c485",
   "metadata": {
    "tags": []
   },
   "outputs": [],
   "source": [
    "show_recomendations(irecomended)"
   ]
  },
  {
   "cell_type": "markdown",
   "id": "c91ad2e9-6365-4532-bce5-78a3ae5668ff",
   "metadata": {},
   "source": [
    "# 3. Revise:"
   ]
  },
  {
   "cell_type": "code",
   "execution_count": null,
   "id": "186bddd5-c96b-4aff-92a3-5b67165f9041",
   "metadata": {
    "tags": []
   },
   "outputs": [],
   "source": [
    "likes = [True, True, False, False, True]"
   ]
  },
  {
   "cell_type": "code",
   "execution_count": null,
   "id": "dec29404-d8cc-4ed8-8b0f-d27304eb9aff",
   "metadata": {
    "tags": []
   },
   "outputs": [],
   "source": [
    "# Iterate until all likes\n",
    "if sum(likes) < n2recomend:\n",
    "    irecomended = [x for i, x in enumerate(irecomended) if likes[i]]\n",
    "    next_idr = idr + (n2recomend - sum(likes))\n",
    "    irecomended.extend(recomended_titles[idr:next_idr])\n",
    "    idr = next_idr\n",
    "for i, x in enumerate(irecomended):\n",
    "    print(f\"{i+1}. {x}\")"
   ]
  },
  {
   "cell_type": "code",
   "execution_count": null,
   "id": "a6299fcf-5303-44b3-bda8-f42e1fb9ae27",
   "metadata": {
    "tags": []
   },
   "outputs": [],
   "source": [
    "show_recomendations(irecomended)"
   ]
  },
  {
   "cell_type": "code",
   "execution_count": null,
   "id": "970e12f7-f8a9-44cc-b271-44f57201dbd1",
   "metadata": {
    "tags": []
   },
   "outputs": [],
   "source": [
    "recomendation_model = get_user_model(irecomended)\n",
    "visualize_user_model(user_model, recomendation_model)"
   ]
  },
  {
   "cell_type": "markdown",
   "id": "82c916c3-ff16-4a2e-8fd2-8b8f3be4e4fb",
   "metadata": {},
   "source": [
    "# 4. Retain"
   ]
  },
  {
   "cell_type": "markdown",
   "id": "147a5c48-f75c-45af-b996-269875cfe04c",
   "metadata": {},
   "source": [
    "### Update or Add user model"
   ]
  },
  {
   "cell_type": "code",
   "execution_count": null,
   "id": "d7188423-ab4d-43cc-aafa-7056da0d7331",
   "metadata": {
    "tags": []
   },
   "outputs": [],
   "source": [
    "user_model = get_user_model(user_model[\"titles\"] + irecomended)"
   ]
  },
  {
   "cell_type": "code",
   "execution_count": null,
   "id": "e9400e96-7213-41e9-9307-8bec94a8d546",
   "metadata": {
    "tags": []
   },
   "outputs": [],
   "source": [
    "if case_similarity.min() == 0:\n",
    "    # update user\n",
    "    idx = case_similarity.argmin()\n",
    "    case_base[idx] = user_model.copy()\n",
    "    print(f\"Case Id {idx} updated\")\n",
    "else:\n",
    "    # add new user\n",
    "    case_base.append(user_model.copy())\n",
    "    print(f\"New Case Id {len(case_base) - 1} added\")"
   ]
  },
  {
   "cell_type": "code",
   "execution_count": null,
   "id": "c1c1c643-38b1-4def-8a8d-a43e423592e4",
   "metadata": {
    "tags": []
   },
   "outputs": [],
   "source": [
    "visualize_user_model(user_model)"
   ]
  },
  {
   "cell_type": "code",
   "execution_count": null,
   "id": "64e6d3a2-7d9c-4eee-a993-cb0f24451ab3",
   "metadata": {
    "tags": []
   },
   "outputs": [],
   "source": [
    "# Back to Base Cases\n",
    "case_base = case_base[:1000]"
   ]
  },
  {
   "cell_type": "code",
   "execution_count": null,
   "id": "bdee8fee-90f7-4e23-b73e-4c7b2c2ac705",
   "metadata": {},
   "outputs": [],
   "source": []
  },
  {
   "cell_type": "markdown",
   "metadata": {},
   "source": [
    "### Presentación:\n",
    "- 5: Problem Definition (MLOps) + Use Cases: \n",
    "    - Price Prediction\n",
    "    - Movies Recomendation\n",
    "- 5: Architecture for Model Inference\n",
    "- 5: Input Processing\n",
    "- 5: Model Predictor\n",
    "- 5: Model Deployment"
   ]
  },
  {
   "cell_type": "markdown",
   "metadata": {},
   "source": []
  }
 ],
 "metadata": {
  "kernelspec": {
   "display_name": "ai_course",
   "language": "python",
   "name": "ai_course"
  },
  "language_info": {
   "codemirror_mode": {
    "name": "ipython",
    "version": 3
   },
   "file_extension": ".py",
   "mimetype": "text/x-python",
   "name": "python",
   "nbconvert_exporter": "python",
   "pygments_lexer": "ipython3",
   "version": "3.10.10"
  }
 },
 "nbformat": 4,
 "nbformat_minor": 5
}
